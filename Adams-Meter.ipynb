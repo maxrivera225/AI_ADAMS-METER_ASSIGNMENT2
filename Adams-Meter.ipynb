{
 "cells": [
  {
   "cell_type": "markdown",
   "id": "a3cd97a6-0648-44d1-a810-4261f745e5db",
   "metadata": {},
   "source": [
    "# Train A Sentiment Classifier\n",
    "\n",
    "The Yelp dataset is generated from the [Yelp academic download](https://www.yelp.com/dataset/download). The lesson is derived from this example in [Textblob's documentation](https://textblob.readthedocs.io/en/dev/classifiers.html#classifiers)."
   ]
  },
  {
   "cell_type": "code",
   "execution_count": 1,
   "id": "9b24b66e-e505-475b-b280-ba1a9be69b2b",
   "metadata": {},
   "outputs": [],
   "source": [
    "import pandas as pd\n",
    "from textblob.classifiers import NaiveBayesClassifier"
   ]
  },
  {
   "cell_type": "code",
   "execution_count": null,
   "id": "2e58ce7f",
   "metadata": {},
   "outputs": [],
   "source": [
    "\n"
   ]
  },
  {
   "cell_type": "code",
   "execution_count": 2,
   "id": "64a2c662-52de-495b-98ca-d8956d41597d",
   "metadata": {},
   "outputs": [
    {
     "name": "stderr",
     "output_type": "stream",
     "text": [
      "[nltk_data] Downloading package punkt_tab to\n",
      "[nltk_data]     /Users/maximillianrivera/nltk_data...\n",
      "[nltk_data]   Package punkt_tab is already up-to-date!\n"
     ]
    },
    {
     "data": {
      "text/plain": [
       "True"
      ]
     },
     "execution_count": 2,
     "metadata": {},
     "output_type": "execute_result"
    }
   ],
   "source": [
    " import nltk\n",
    " nltk.download('punkt_tab') # we need to do this once for the tokenizer"
   ]
  },
  {
   "cell_type": "code",
   "execution_count": 3,
   "id": "f6e94cec-1db0-48fa-8d47-bffaa71babe3",
   "metadata": {},
   "outputs": [],
   "source": [
    "adams = pd.read_csv('small_Adams.csv')"
   ]
  },
  {
   "cell_type": "code",
   "execution_count": 4,
   "id": "2f81a4d4-549a-47d8-85c4-da5e61f09076",
   "metadata": {},
   "outputs": [
    {
     "data": {
      "text/html": [
       "<div>\n",
       "<style scoped>\n",
       "    .dataframe tbody tr th:only-of-type {\n",
       "        vertical-align: middle;\n",
       "    }\n",
       "\n",
       "    .dataframe tbody tr th {\n",
       "        vertical-align: top;\n",
       "    }\n",
       "\n",
       "    .dataframe thead th {\n",
       "        text-align: right;\n",
       "    }\n",
       "</style>\n",
       "<table border=\"1\" class=\"dataframe\">\n",
       "  <thead>\n",
       "    <tr style=\"text-align: right;\">\n",
       "      <th></th>\n",
       "      <th>Adams</th>\n",
       "      <th>Date</th>\n",
       "    </tr>\n",
       "  </thead>\n",
       "  <tbody>\n",
       "    <tr>\n",
       "      <th>0</th>\n",
       "      <td>Secure our borders, address the people who are...</td>\n",
       "      <td>12/3/24</td>\n",
       "    </tr>\n",
       "    <tr>\n",
       "      <th>1</th>\n",
       "      <td>And the federal government made me take six po...</td>\n",
       "      <td>12/3/24</td>\n",
       "    </tr>\n",
       "    <tr>\n",
       "      <th>2</th>\n",
       "      <td>Those who are here committing crimes, robberie...</td>\n",
       "      <td>12/3/24</td>\n",
       "    </tr>\n",
       "    <tr>\n",
       "      <th>3</th>\n",
       "      <td>Okay, let me find that sentence. President Bid...</td>\n",
       "      <td>12/3/24</td>\n",
       "    </tr>\n",
       "    <tr>\n",
       "      <th>4</th>\n",
       "      <td>Our city remains committed to protecting and a...</td>\n",
       "      <td>11/6/24</td>\n",
       "    </tr>\n",
       "  </tbody>\n",
       "</table>\n",
       "</div>"
      ],
      "text/plain": [
       "                                               Adams     Date\n",
       "0  Secure our borders, address the people who are...  12/3/24\n",
       "1  And the federal government made me take six po...  12/3/24\n",
       "2  Those who are here committing crimes, robberie...  12/3/24\n",
       "3  Okay, let me find that sentence. President Bid...  12/3/24\n",
       "4  Our city remains committed to protecting and a...  11/6/24"
      ]
     },
     "execution_count": 4,
     "metadata": {},
     "output_type": "execute_result"
    }
   ],
   "source": [
    "adams.head(5)"
   ]
  },
  {
   "cell_type": "code",
   "execution_count": null,
   "id": "a127677d",
   "metadata": {},
   "outputs": [],
   "source": []
  },
  {
   "cell_type": "code",
   "execution_count": 5,
   "id": "e2b923a7-556e-4fe2-8b8f-d6bee9fd6165",
   "metadata": {},
   "outputs": [],
   "source": [
    "# Saving this for combining our CSVs!\n",
    "train = [\n",
    "    (\"Secure our borders, address the people who are committing violent acts in our country and make sure that we have our citizens— are going to be safe. That's where I am. \", \"rep\"),\n",
    "    (\"And the federal government made me take six point four billion dollars out of providing these services that we should– We all should be angry at what happened to our city under this administration.\", \"rep\"),\n",
    "    (\"Those who are here committing crimes, robberies, shooting at police officers, raping innocent people have been a harm to our country. I want to sit down and hear the plan on how we're going to address them. Those are the people I am talking about. And I would love to sit down with the border czar and hear his thoughts on how we're going to address those who are harming our citizens.\", \"rep\"),\n",
    "    (\"Okay, let me find that sentence. President Biden and President-elect Donald Trump now agree on one thing. The Biden Justice Department has been politicized. Does that sound familiar?\", \"rep\"),\n",
    "    (\"And while we will always respect and protect the right to peaceful protest, there will be zero tolerance for crime, blocking traffic, graffiti or disorderly behavior. And months ago I made it clear that those engaging in political battles need to take down the temperature and I am renewing that call today.\", \"rep\"),\n",
    "    (\"Our city remains committed to protecting and advancing women's health care, including access to abortion care.\", \"dem\"),\n",
    "    (\"I know they're committed, dedicated men and women that work over at ACS. And every day they're making these tough decisions on making sure these calls are right.\", \"dem\"),\n",
    "    (\"To tackle these issues, we are launching a multi-agency operation that brings together more than a dozen city agencies with state partners to make sure crime and quality-of-life issues are addressed. Our administration has a clear mission: to make New York a safer, more affordable city, and we will not rest until we have accomplished that mission.\", \"dem\"),\n",
    "    (\"Everything from cleanliness over some of the trash bins was spilling over with garbage. So we wanted a holistic, multifaceted approach with the police and the Department of Sanitation and other partners that are going to talk to the young sex workers and try to get them the services that they need. \", \"dem\"),\n",
    "    (\"Chauncey is a lifelong public servant who has spent his career working at the city, state, and federal levels building bridges between law enforcement and communities across the state. We are safer, stronger, and better connected thanks to Chauncey’s service to our city, and I am thrilled to have him and Mona Suazo take the lead on our administration’s public safety portfolio through the next successful chapter.\", \"dem\"),\n",
    "]\n",
    "test = [\n",
    "    (\"We need to slow down the migrants.\", \"rep\"),\n",
    "    (\"Criminals don't belong in our city\", \"rep\"),\n",
    "    (\"We are a sanctuary city for all\", \"dem\"),\n",
    "    (\"I endorsed Kamala\", \"dem\"),\n",
    "    (\"We have to get rid of the rats\", \"rep\"),\n",
    "    (\"I stand with communities of color\", \"dem\"),\n",
    "]"
   ]
  },
  {
   "cell_type": "code",
   "execution_count": 6,
   "id": "2ba6436d",
   "metadata": {},
   "outputs": [
    {
     "name": "stdout",
     "output_type": "stream",
     "text": [
      "Requirement already satisfied: textblob in /Users/maximillianrivera/anaconda3/lib/python3.11/site-packages (0.18.0.post0)\n",
      "Requirement already satisfied: nltk>=3.8 in /Users/maximillianrivera/anaconda3/lib/python3.11/site-packages (from textblob) (3.8.1)\n",
      "Requirement already satisfied: click in /Users/maximillianrivera/anaconda3/lib/python3.11/site-packages (from nltk>=3.8->textblob) (8.0.4)\n",
      "Requirement already satisfied: joblib in /Users/maximillianrivera/anaconda3/lib/python3.11/site-packages (from nltk>=3.8->textblob) (1.2.0)\n",
      "Requirement already satisfied: regex>=2021.8.3 in /Users/maximillianrivera/anaconda3/lib/python3.11/site-packages (from nltk>=3.8->textblob) (2022.7.9)\n",
      "Requirement already satisfied: tqdm in /Users/maximillianrivera/anaconda3/lib/python3.11/site-packages (from nltk>=3.8->textblob) (4.65.0)\n",
      "Note: you may need to restart the kernel to use updated packages.\n"
     ]
    }
   ],
   "source": [
    "pip install textblob"
   ]
  },
  {
   "cell_type": "markdown",
   "id": "c338809e-f4c7-4740-8e8f-ad581a81b908",
   "metadata": {},
   "source": [
    "## Train Our Classifier"
   ]
  },
  {
   "cell_type": "code",
   "execution_count": 9,
   "id": "fbe83ef3",
   "metadata": {},
   "outputs": [
    {
     "name": "stderr",
     "output_type": "stream",
     "text": [
      "[nltk_data] Downloading package punkt to\n",
      "[nltk_data]     /Users/maximillianrivera/nltk_data...\n",
      "[nltk_data]   Unzipping tokenizers/punkt.zip.\n",
      "[nltk_data] Downloading package wordnet to\n",
      "[nltk_data]     /Users/maximillianrivera/nltk_data...\n",
      "[nltk_data] Downloading package averaged_perceptron_tagger to\n",
      "[nltk_data]     /Users/maximillianrivera/nltk_data...\n",
      "[nltk_data]   Unzipping taggers/averaged_perceptron_tagger.zip.\n"
     ]
    },
    {
     "data": {
      "text/plain": [
       "True"
      ]
     },
     "execution_count": 9,
     "metadata": {},
     "output_type": "execute_result"
    }
   ],
   "source": [
    "import nltk\n",
    "nltk.download('punkt')\n",
    "nltk.download('wordnet')\n",
    "nltk.download('averaged_perceptron_tagger')\n"
   ]
  },
  {
   "cell_type": "code",
   "execution_count": 10,
   "id": "0079bcbd-fca4-43b7-8aef-1c2a982ca097",
   "metadata": {},
   "outputs": [],
   "source": [
    "cl = NaiveBayesClassifier(train)"
   ]
  },
  {
   "cell_type": "code",
   "execution_count": null,
   "id": "d9232781",
   "metadata": {},
   "outputs": [],
   "source": []
  },
  {
   "cell_type": "markdown",
   "id": "9b89c5eb-8da0-47fd-b0ee-2503b8726472",
   "metadata": {},
   "source": [
    "Let's see what's driving the model:"
   ]
  },
  {
   "cell_type": "code",
   "execution_count": 11,
   "id": "00da9e0d-7546-4727-9e7f-b30d86eb43f3",
   "metadata": {},
   "outputs": [
    {
     "name": "stdout",
     "output_type": "stream",
     "text": [
      "Most Informative Features\n",
      "           contains(And) = True              rep : dem    =      2.3 : 1.0\n",
      "             contains(a) = True              dem : rep    =      2.3 : 1.0\n",
      "            contains(am) = True              rep : dem    =      2.3 : 1.0\n",
      "           contains(are) = False             rep : dem    =      2.3 : 1.0\n",
      "          contains(city) = True              dem : rep    =      2.3 : 1.0\n"
     ]
    }
   ],
   "source": [
    "cl.show_informative_features(5)"
   ]
  },
  {
   "cell_type": "markdown",
   "id": "8d3810e2-1e2b-493f-88cc-b287b3a554f1",
   "metadata": {},
   "source": [
    "## Remember Our Accuracy Metric?"
   ]
  },
  {
   "cell_type": "code",
   "execution_count": 12,
   "id": "aa8ab17a-b22c-4575-ba54-8ea127e89bb5",
   "metadata": {},
   "outputs": [
    {
     "data": {
      "text/plain": [
       "0.8333333333333334"
      ]
     },
     "execution_count": 12,
     "metadata": {},
     "output_type": "execute_result"
    }
   ],
   "source": [
    "cl.accuracy(test)"
   ]
  },
  {
   "cell_type": "markdown",
   "id": "c7804af9",
   "metadata": {},
   "source": [
    "## Time to test the Adams-Meter"
   ]
  },
  {
   "cell_type": "code",
   "execution_count": 13,
   "id": "37aa2fc3-1b1a-41c3-a54d-3c2c40261ad4",
   "metadata": {},
   "outputs": [
    {
     "data": {
      "text/plain": [
       "'dem'"
      ]
     },
     "execution_count": 13,
     "metadata": {},
     "output_type": "execute_result"
    }
   ],
   "source": [
    "cl.classify(\"Our administration was clear and laser focused on that. When you look at the over $80 million worth of illegal products that were removed off our streets, you see that those $80 million that we insure illegal profits are not made.\")"
   ]
  },
  {
   "cell_type": "code",
   "execution_count": 14,
   "id": "17e6a118-c5bc-485f-aa9f-5eff4d9c8e4c",
   "metadata": {},
   "outputs": [],
   "source": [
    "prob_dist = cl.prob_classify(\"So today we're saying goodbye and good riddance to products that endanger our children and undermine our quality of life. \") # this also shows us the parts"
   ]
  },
  {
   "cell_type": "code",
   "execution_count": 30,
   "id": "f9dd8f42-43f7-4652-bc1e-252d29278afc",
   "metadata": {},
   "outputs": [
    {
     "data": {
      "text/plain": [
       "(0.26630434782608825, 0.733695652173912)"
      ]
     },
     "execution_count": 30,
     "metadata": {},
     "output_type": "execute_result"
    }
   ],
   "source": [
    "prob_dist.prob('dem'), prob_dist.prob('rep')"
   ]
  },
  {
   "cell_type": "code",
   "execution_count": null,
   "id": "905665eb",
   "metadata": {},
   "outputs": [],
   "source": [
    "##ADAMS-METER\n",
    "user_input = input(\"What did Eric Adams say? \")\n",
    "analysis = cl.classify(user_input)\n",
    "\n",
    "print(f\"Party line: {analysis}\")\n"
   ]
  },
  {
   "cell_type": "markdown",
   "id": "2e5fae14-217a-4598-bbf3-c5a7ca49a22c",
   "metadata": {},
   "source": [
    "---\n",
    "\n",
    "---\n",
    "\n",
    "---"
   ]
  }
 ],
 "metadata": {
  "kernelspec": {
   "display_name": "Python 3 (ipykernel)",
   "language": "python",
   "name": "python3"
  },
  "language_info": {
   "codemirror_mode": {
    "name": "ipython",
    "version": 3
   },
   "file_extension": ".py",
   "mimetype": "text/x-python",
   "name": "python",
   "nbconvert_exporter": "python",
   "pygments_lexer": "ipython3",
   "version": "3.11.5"
  }
 },
 "nbformat": 4,
 "nbformat_minor": 5
}
